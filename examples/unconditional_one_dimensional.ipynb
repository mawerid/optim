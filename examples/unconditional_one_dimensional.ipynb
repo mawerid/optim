{
 "cells": [
  {
   "metadata": {
    "ExecuteTime": {
     "end_time": "2024-10-14T16:54:06.159915Z",
     "start_time": "2024-10-14T16:54:05.941487Z"
    }
   },
   "cell_type": "code",
   "source": [
    "import numpy as np\n",
    "from optim.UnconditionalOneDim import (\n",
    "    approxim_models,\n",
    "    chord,\n",
    "    dichotomy,\n",
    "    fibonacci,\n",
    "    golden_ratio,\n",
    "    monte_carlo,\n",
    "    newton,\n",
    "    uniform_search,\n",
    ")"
   ],
   "id": "ef75a561ed0ba6be",
   "outputs": [],
   "execution_count": 1
  },
  {
   "metadata": {},
   "cell_type": "markdown",
   "source": "## Task 1",
   "id": "b988c2ac3d5707a5"
  },
  {
   "metadata": {
    "ExecuteTime": {
     "end_time": "2024-10-14T16:54:07.745448Z",
     "start_time": "2024-10-14T16:54:07.742966Z"
    }
   },
   "cell_type": "code",
   "source": "func = lambda x: 2 * (x - 10) ** 2 + 3",
   "id": "fbc121e30a2defb3",
   "outputs": [],
   "execution_count": 2
  },
  {
   "metadata": {
    "ExecuteTime": {
     "end_time": "2024-10-14T16:54:08.554889Z",
     "start_time": "2024-10-14T16:54:08.546443Z"
    }
   },
   "cell_type": "code",
   "source": "approxim_models.find_min(func, np.array([0, 13]), 1e-2, verbose=True)",
   "id": "3a385d9844fdd2fd",
   "outputs": [
    {
     "name": "stdout",
     "output_type": "stream",
     "text": [
      "Iteration: 1, interval: [6.5, 10.0], extremum: 10.0\n",
      "Iteration: 2, interval: [8.25, 10.0], extremum: 10.0\n",
      "Iteration: 3, interval: [9.125, 10.0], extremum: 10.0\n",
      "Iteration: 4, interval: [9.5625, 10.0], extremum: 10.0\n",
      "Iteration: 5, interval: [9.78125, 10.0], extremum: 10.0\n",
      "Iteration: 6, interval: [9.890625, 10.0], extremum: 10.0\n",
      "Iteration: 7, interval: [9.9453125, 10.0], extremum: 10.0\n",
      "Iteration: 8, interval: [9.97265625, 10.0], extremum: 10.0\n",
      "Iteration: 9, interval: [9.986328125, 10.0], extremum: 10.0\n",
      "Iteration: 10, interval: [9.9931640625, 10.0], extremum: 10.0\n"
     ]
    },
    {
     "data": {
      "text/plain": [
       "3.000023365020752"
      ]
     },
     "execution_count": 3,
     "metadata": {},
     "output_type": "execute_result"
    }
   ],
   "execution_count": 3
  },
  {
   "metadata": {
    "ExecuteTime": {
     "end_time": "2024-10-14T16:54:09.243601Z",
     "start_time": "2024-10-14T16:54:09.239896Z"
    }
   },
   "cell_type": "code",
   "source": "chord.find_min(func, np.array([0, 13]), 1e-2, verbose=True)",
   "id": "63b464712b34a287",
   "outputs": [
    {
     "name": "stdout",
     "output_type": "stream",
     "text": [
      "Round: 1,\tInterval: [0, 13],\tx: 10.0,\tF'(x): 0.0\n"
     ]
    },
    {
     "data": {
      "text/plain": [
       "3.0"
      ]
     },
     "execution_count": 4,
     "metadata": {},
     "output_type": "execute_result"
    }
   ],
   "execution_count": 4
  },
  {
   "metadata": {
    "ExecuteTime": {
     "end_time": "2024-10-14T16:54:09.744692Z",
     "start_time": "2024-10-14T16:54:09.740134Z"
    }
   },
   "cell_type": "code",
   "source": "dichotomy.find_min(func, np.array([0, 13]), 1e-3, verbose=True)",
   "id": "9314e2407da84e7d",
   "outputs": [
    {
     "name": "stdout",
     "output_type": "stream",
     "text": [
      "Round: 1,\tx_0: 6.5,\tx_1: 6.4995,\tx_2: 6.5005,\tF(x_1): 27.507000499999997,\tF(x_2): 27.493000500000004\n",
      "Round: 2,\tx_0: 9.75,\tx_1: 9.7495,\tx_2: 9.7505,\tF(x_1): 3.1255005000000007,\tF(x_2): 3.1245004999999995\n",
      "Round: 3,\tx_0: 11.375,\tx_1: 11.3745,\tx_2: 11.3755,\tF(x_1): 6.778500499999996,\tF(x_2): 6.784000500000003\n",
      "Round: 4,\tx_0: 10.5625,\tx_1: 10.562,\tx_2: 10.563,\tF(x_1): 3.6316879999999987,\tF(x_2): 3.6339380000000014\n",
      "Round: 5,\tx_0: 10.15625,\tx_1: 10.15575,\tx_2: 10.15675,\tF(x_1): 3.0485161249999995,\tF(x_2): 3.0491411250000002\n",
      "Round: 6,\tx_0: 9.953125,\tx_1: 9.952625,\tx_2: 9.953625,\tF(x_1): 3.00448878125,\tF(x_2): 3.00430128125\n",
      "Round: 7,\tx_0: 10.0546875,\tx_1: 10.0541875,\tx_2: 10.0551875,\tF(x_1): 3.0058725703125,\tF(x_2): 3.0060913203125\n",
      "Round: 8,\tx_0: 10.00390625,\tx_1: 10.00340625,\tx_2: 10.00440625,\tF(x_1): 3.000023205078125,\tF(x_2): 3.000038830078125\n",
      "Round: 9,\tx_0: 9.978515625,\tx_1: 9.978015625,\tx_2: 9.979015625,\tF(x_1): 3.000966625488281,\tF(x_2): 3.000880687988281\n",
      "Round: 10,\tx_0: 9.9912109375,\tx_1: 9.9907109375,\tx_2: 9.9917109375,\tF(x_1): 3.000172573364258,\tF(x_2): 3.000137417114258\n",
      "Round: 11,\tx_0: 9.99755859375,\tx_1: 9.99705859375,\tx_2: 9.99805859375,\tF(x_1): 3.0000173037414553,\tF(x_2): 3.000007538116455\n",
      "Round: 12,\tx_0: 10.000732421875,\tx_1: 10.000232421875,\tx_2: 10.001232421875,\tF(x_1): 3.000000108039856,\tF(x_2): 3.000003037727356\n",
      "Round: 13,\tx_0: 9.9991455078125,\tx_1: 9.9986455078125,\tx_2: 9.9996455078125,\tF(x_1): 3.000003669298172,\tF(x_2): 3.000000251329422\n",
      "Round: 14,\tx_0: 9.99993896484375,\tx_1: 9.99943896484375,\tx_2: 10.00043896484375,\tF(x_1): 3.000000629520893,\tF(x_2): 3.000000385380268\n"
     ]
    },
    {
     "data": {
      "text/plain": [
       "3.000000225380063"
      ]
     },
     "execution_count": 5,
     "metadata": {},
     "output_type": "execute_result"
    }
   ],
   "execution_count": 5
  },
  {
   "metadata": {
    "ExecuteTime": {
     "end_time": "2024-10-14T16:54:10.592308Z",
     "start_time": "2024-10-14T16:54:10.584731Z"
    }
   },
   "cell_type": "code",
   "source": "fibonacci.find_min(func, np.array([0, 13]), 100, 1e-3, verbose=True)",
   "id": "4cb52b8013837066",
   "outputs": [
    {
     "name": "stdout",
     "output_type": "stream",
     "text": [
      "Round: 1,\tInterval: [4.965558146251366, 13],\tF(X1): 53.69120955755196,\tF(X2): 10.726837652590229\n",
      "Round: 2,\tInterval: [8.034441853748632, 13],\tF(X1): 10.726837652590229,\tF(X2): 3.0094899303171383\n",
      "Round: 3,\tInterval: [8.034441853748632, 11.1033255612459],\tF(X1): 3.0094899303171383,\tF(X2): 5.434654588197158\n",
      "Round: 4,\tInterval: [9.206651122491797, 11.1033255612459],\tF(X1): 4.258804882887051,\tF(X2): 3.009489930317138\n",
      "Round: 5,\tInterval: [9.206651122491797, 10.378860391234962],\tF(X1): 3.0094899303171383,\tF(X2): 3.2870703920934172\n",
      "Round: 6,\tInterval: [9.654395221224027, 10.378860391234962],\tF(X1): 3.238885326225579,\tF(X2): 3.0094899303171383\n",
      "Round: 7,\tInterval: [9.654395221224027, 10.102139319956256],\tF(X1): 3.0094899303171383,\tF(X2): 3.020864881362253\n",
      "Round: 8,\tInterval: [9.82541824867755, 10.102139319956256],\tF(X1): 3.0609575757896272,\tF(X2): 3.0094899303171383\n",
      "Round: 9,\tInterval: [9.931116292502734, 10.102139319956256],\tF(X1): 3.009489930317138,\tF(X2): 3.0000253290311507\n",
      "Round: 10,\tInterval: [9.931116292502734, 10.036814336327918],\tF(X1): 3.0000253290311507,\tF(X2): 3.00271059071853\n",
      "Round: 11,\tInterval: [9.971489352699578, 10.036814336327918],\tF(X1): 3.001625714018978,\tF(X2): 3.0000253290311507\n",
      "Round: 12,\tInterval: [9.971489352699578, 10.011862412896422],\tF(X1): 3.0000253290311507,\tF(X2): 3.0002814336794503\n",
      "Round: 13,\tInterval: [9.986910489464927, 10.011862412896422],\tF(X1): 3.0003426705720955,\tF(X2): 3.0000253290311507\n",
      "Round: 14,\tInterval: [9.996441276131073, 10.011862412896422],\tF(X1): 3.0000253290311507,\tF(X2): 3.0000108729617554\n",
      "Round: 15,\tInterval: [9.996441276131073, 10.00597206279722],\tF(X1): 3.0000108729617554,\tF(X2): 3.0000713310681077\n",
      "Round: 16,\tInterval: [9.996441276131073, 10.002331626230276],\tF(X1): 3.00000001335393,\tF(X2): 3.0000108729617554\n",
      "Round: 17,\tInterval: [9.998691189663331, 10.002331626230276],\tF(X1): 3.0000034259689947,\tF(X2): 3.00000001335393\n",
      "Round: 18,\tInterval: [9.998691189663331, 10.000941103195592],\tF(X1): 3.00000001335393,\tF(X2): 3.0000017713504494\n",
      "Round: 19,\tInterval: [9.999550580160907, 10.000941103195592],\tF(X1): 3.0000004039563835,\tF(X2): 3.00000001335393\n",
      "Round: 20,\tInterval: [9.999550580160907, 10.000409970658481],\tF(X1): 3.00000001335393,\tF(X2): 3.0000003361518814\n",
      "Round: 21,\tInterval: [9.999550580160907, 9.999980275409694],\tF(X1): 3.0000004039563835,\tF(X2): 3.000000000778119\n"
     ]
    },
    {
     "data": {
      "text/plain": [
       "3.000000110048248"
      ]
     },
     "execution_count": 6,
     "metadata": {},
     "output_type": "execute_result"
    }
   ],
   "execution_count": 6
  },
  {
   "metadata": {
    "ExecuteTime": {
     "end_time": "2024-10-14T16:54:11.135748Z",
     "start_time": "2024-10-14T16:54:11.132166Z"
    }
   },
   "cell_type": "code",
   "source": "golden_ratio.find_min(func, np.array([0, 13]), 1e-3, verbose=True)",
   "id": "187dee3ba5c24ef0",
   "outputs": [
    {
     "name": "stdout",
     "output_type": "stream",
     "text": [
      "Round: 1,\tInterval: [4.965558146251366, 13],\tF(X1): 53.69120955755196,\tF(X2): 10.726837652590214\n",
      "Round: 2,\tInterval: [8.034441853748632, 13],\tF(X1): 10.726837652590229,\tF(X2): 3.009489930317138\n",
      "Round: 3,\tInterval: [8.034441853748632, 11.1033255612459],\tF(X1): 3.0094899303171383,\tF(X2): 5.434654588197158\n",
      "Round: 4,\tInterval: [9.206651122491797, 11.1033255612459],\tF(X1): 4.258804882887051,\tF(X2): 3.009489930317138\n",
      "Round: 5,\tInterval: [9.206651122491797, 10.378860391234964],\tF(X1): 3.0094899303171383,\tF(X2): 3.28707039209342\n",
      "Round: 6,\tInterval: [9.654395221224027, 10.378860391234964],\tF(X1): 3.238885326225579,\tF(X2): 3.009489930317138\n",
      "Round: 7,\tInterval: [9.654395221224027, 10.102139319956256],\tF(X1): 3.009489930317138,\tF(X2): 3.020864881362253\n",
      "Round: 8,\tInterval: [9.82541824867755, 10.102139319956256],\tF(X1): 3.0609575757896272,\tF(X2): 3.0094899303171383\n",
      "Round: 9,\tInterval: [9.931116292502734, 10.102139319956256],\tF(X1): 3.009489930317138,\tF(X2): 3.0000253290311507\n",
      "Round: 10,\tInterval: [9.931116292502734, 10.036814336327918],\tF(X1): 3.0000253290311507,\tF(X2): 3.00271059071853\n",
      "Round: 11,\tInterval: [9.971489352699578, 10.036814336327918],\tF(X1): 3.001625714018978,\tF(X2): 3.0000253290311507\n",
      "Round: 12,\tInterval: [9.971489352699578, 10.011862412896422],\tF(X1): 3.0000253290311507,\tF(X2): 3.0002814336794503\n",
      "Round: 13,\tInterval: [9.986910489464927, 10.011862412896422],\tF(X1): 3.0003426705720955,\tF(X2): 3.0000253290311507\n",
      "Round: 14,\tInterval: [9.996441276131073, 10.011862412896422],\tF(X1): 3.0000253290311507,\tF(X2): 3.0000108729617554\n",
      "Round: 15,\tInterval: [9.996441276131073, 10.00597206279722],\tF(X1): 3.0000108729617554,\tF(X2): 3.0000713310681077\n",
      "Round: 16,\tInterval: [9.996441276131073, 10.002331626230276],\tF(X1): 3.00000001335393,\tF(X2): 3.0000108729617554\n",
      "Round: 17,\tInterval: [9.998691189663331, 10.002331626230276],\tF(X1): 3.0000034259689947,\tF(X2): 3.00000001335393\n",
      "Round: 18,\tInterval: [9.998691189663331, 10.000941103195592],\tF(X1): 3.00000001335393,\tF(X2): 3.0000017713504494\n",
      "Round: 19,\tInterval: [9.999550580160907, 10.000941103195592],\tF(X1): 3.0000004039563835,\tF(X2): 3.00000001335393\n",
      "Round: 20,\tInterval: [9.999550580160907, 10.000409970658481],\tF(X1): 3.00000001335393,\tF(X2): 3.0000003361518814\n"
     ]
    },
    {
     "data": {
      "text/plain": [
       "3.000000000778119"
      ]
     },
     "execution_count": 7,
     "metadata": {},
     "output_type": "execute_result"
    }
   ],
   "execution_count": 7
  },
  {
   "metadata": {
    "ExecuteTime": {
     "end_time": "2024-10-14T16:54:11.610314Z",
     "start_time": "2024-10-14T16:54:11.605951Z"
    }
   },
   "cell_type": "code",
   "source": "monte_carlo.find_min(func, np.array([0, 13]), 1000, verbose=True)",
   "id": "8ea52a5943b9eec9",
   "outputs": [
    {
     "name": "stdout",
     "output_type": "stream",
     "text": [
      "K of minimal F value: 9.993993993993994,\tF(K): 3.0000721442162885\n"
     ]
    },
    {
     "data": {
      "text/plain": [
       "3.0000721442162885"
      ]
     },
     "execution_count": 8,
     "metadata": {},
     "output_type": "execute_result"
    }
   ],
   "execution_count": 8
  },
  {
   "metadata": {
    "ExecuteTime": {
     "end_time": "2024-10-14T16:54:12.184632Z",
     "start_time": "2024-10-14T16:54:12.177220Z"
    }
   },
   "cell_type": "code",
   "source": "newton.find_min(func, np.random.rand() * 13, 1e-3, verbose=True)",
   "id": "42cea73df90449b9",
   "outputs": [
    {
     "name": "stdout",
     "output_type": "stream",
     "text": [
      "Round: 0,\tx: 10.00043603463161,\tF'(x): -32.77791557678711,\tF''(x): 3.9997871681407555\n",
      "Round: 1,\tx: 10.000000000037064,\tF'(x): 0.001744138522496996,\tF''(x): 4.000000330961483\n"
     ]
    },
    {
     "data": {
      "text/plain": [
       "3.0"
      ]
     },
     "execution_count": 9,
     "metadata": {},
     "output_type": "execute_result"
    }
   ],
   "execution_count": 9
  },
  {
   "metadata": {
    "ExecuteTime": {
     "end_time": "2024-10-14T16:54:13.451765Z",
     "start_time": "2024-10-14T16:54:13.447846Z"
    }
   },
   "cell_type": "code",
   "source": "uniform_search.find_min(func, np.array([0, 13]), 100, 1e-3, verbose=True)",
   "id": "b0d1460d18d81598",
   "outputs": [
    {
     "name": "stdout",
     "output_type": "stream",
     "text": [
      "Round: 1,\tInterval: [9.84848484848485, 10.111111111111112],\tK of minimal F value: 76,\tF(K): 8715\n",
      "Round: 2,\tInterval: [9.997041118253241, 10.002346699316398],\tK of minimal F value: 57,\tF(K): 4421\n",
      "Round: 3,\tInterval: [9.999935071560417, 10.00004225501624],\tK of minimal F value: 55,\tF(K): 4053\n"
     ]
    },
    {
     "data": {
      "text/plain": [
       "3.000000000257042"
      ]
     },
     "execution_count": 10,
     "metadata": {},
     "output_type": "execute_result"
    }
   ],
   "execution_count": 10
  },
  {
   "metadata": {},
   "cell_type": "markdown",
   "source": "## Task 2",
   "id": "49f5e93f33455e5a"
  },
  {
   "metadata": {
    "ExecuteTime": {
     "end_time": "2024-10-14T16:54:14.640008Z",
     "start_time": "2024-10-14T16:54:14.637783Z"
    }
   },
   "cell_type": "code",
   "source": "func = lambda x: np.sqrt(81 + x * x) / 8 + (15 - x) / 10",
   "id": "13f76751d1432fac",
   "outputs": [],
   "execution_count": 11
  },
  {
   "metadata": {
    "ExecuteTime": {
     "end_time": "2024-10-14T16:54:15.313825Z",
     "start_time": "2024-10-14T16:54:15.309187Z"
    }
   },
   "cell_type": "code",
   "source": "approxim_models.find_min(func, np.array([0, 15]), 1e-2, verbose=True)",
   "id": "b96fb81bf2f7c33e",
   "outputs": [
    {
     "name": "stdout",
     "output_type": "stream",
     "text": [
      "Iteration: 1, interval: [7.5, 11.795014072653487], extremum: 11.795014072653487\n",
      "Iteration: 2, interval: [9.647507036326743, 11.703440036009562], extremum: 11.703440036009562\n",
      "Iteration: 3, interval: [10.675473536168152, 11.89258144212824], extremum: 11.89258144212824\n",
      "Iteration: 4, interval: [11.284027489148196, 11.9695174729546], extremum: 11.9695174729546\n",
      "Iteration: 5, interval: [11.626772481051397, 11.992067927330174], extremum: 11.992067927330174\n",
      "Iteration: 6, interval: [11.809420204190786, 11.997993423785905], extremum: 11.997993423785905\n",
      "Iteration: 7, interval: [11.903706813988347, 11.999496423103347], extremum: 11.999496423103347\n",
      "Iteration: 8, interval: [11.951601618545848, 11.999873919631279], extremum: 11.999873919631279\n",
      "Iteration: 9, interval: [11.975737769088564, 11.999968459738929], extremum: 11.999968459738929\n",
      "Iteration: 10, interval: [11.987853114413745, 11.999992112607968], extremum: 11.999992112607968\n",
      "Iteration: 11, interval: [11.993922613510858, 11.99999802790802], extremum: 11.99999802790802\n"
     ]
    },
    {
     "data": {
      "text/plain": [
       "2.1750000138617227"
      ]
     },
     "execution_count": 12,
     "metadata": {},
     "output_type": "execute_result"
    }
   ],
   "execution_count": 12
  },
  {
   "metadata": {
    "ExecuteTime": {
     "end_time": "2024-10-14T16:54:16.361868Z",
     "start_time": "2024-10-14T16:54:16.357295Z"
    }
   },
   "cell_type": "code",
   "source": "chord.find_min(func, np.array([0, 15]), 1e-5, verbose=True)",
   "id": "9e6a6e24eab84d34",
   "outputs": [
    {
     "name": "stdout",
     "output_type": "stream",
     "text": [
      "Round: 1,\tInterval: [0, 13.99428454926538],\tx: 13.99428454926538,\tF'(x): 0.005134751601687526\n",
      "Round: 2,\tInterval: [0, 13.310807640826054],\tx: 13.310807640826054,\tF'(x): 0.0035512010887472907\n",
      "Round: 3,\tInterval: [0, 12.854324721431281],\tx: 12.854324721431281,\tF'(x): 0.0023966069351288866\n",
      "Round: 4,\tInterval: [0, 12.553467449968247],\tx: 12.553467449968247,\tF'(x): 0.0015893097282670963\n",
      "Round: 5,\tInterval: [0, 12.357075250903799],\tx: 12.357075250903799,\tF'(x): 0.001041282216007744\n",
      "Round: 6,\tInterval: [0, 12.229729255122116],\tx: 12.229729255122116,\tF'(x): 0.0006766976312633232\n",
      "Round: 7,\tInterval: [0, 12.147527226137267],\tx: 12.147527226137267,\tF'(x): 0.00043740504551692533\n",
      "Round: 8,\tInterval: [0, 12.094624727350892],\tx: 12.094624727350892,\tF'(x): 0.0002817376554276052\n",
      "Round: 9,\tInterval: [0, 12.060645347922964],\tx: 12.060645347922964,\tF'(x): 0.00018105661414580251\n",
      "Round: 10,\tInterval: [0, 12.038848216962228],\tx: 12.038848216962228,\tF'(x): 0.00011618330741924864\n",
      "Round: 11,\tInterval: [0, 12.024877316784433],\tx: 12.024877316784433,\tF'(x): 7.448364147677466e-05\n",
      "Round: 12,\tInterval: [0, 12.015927416488678],\tx: 12.015927416488678,\tF'(x): 4.772142681019886e-05\n",
      "Round: 13,\tInterval: [0, 12.01019597960531],\tx: 12.01019597960531,\tF'(x): 3.056299657799855e-05\n",
      "Round: 14,\tInterval: [0, 12.006526425345308],\tx: 12.006526425345308,\tF'(x): 1.956905748556892e-05\n",
      "Round: 15,\tInterval: [0, 12.004177320985024],\tx: 12.004177320985024,\tF'(x): 1.2527778814330757e-05\n",
      "Round: 16,\tInterval: [0, 12.002673652578233],\tx: 12.002673652578233,\tF'(x): 8.019229724709476e-06\n"
     ]
    },
    {
     "data": {
      "text/plain": [
       "2.1750000107210985"
      ]
     },
     "execution_count": 13,
     "metadata": {},
     "output_type": "execute_result"
    }
   ],
   "execution_count": 13
  },
  {
   "metadata": {
    "ExecuteTime": {
     "end_time": "2024-10-14T16:54:18.016528Z",
     "start_time": "2024-10-14T16:54:18.012994Z"
    }
   },
   "cell_type": "code",
   "source": "dichotomy.find_min(func, np.array([0, 15]), 1e-3, verbose=True)",
   "id": "99401df903f51a3c",
   "outputs": [
    {
     "name": "stdout",
     "output_type": "stream",
     "text": [
      "Round: 1,\tx_0: 7.5,\tx_1: 7.4995,\tx_2: 7.5005,\tF(x_1): 2.214431803494652,\tF(x_2): 2.214411826544567\n",
      "Round: 2,\tx_0: 11.25,\tx_1: 11.2495,\tx_2: 11.2505,\tF(x_1): 2.175879887900645,\tF(x_2): 2.1758774965018026\n",
      "Round: 3,\tx_0: 13.125,\tx_1: 13.1245,\tx_2: 13.1255,\tF(x_1): 2.1767886273160517,\tF(x_2): 2.1767917184225163\n",
      "Round: 4,\tx_0: 12.1875,\tx_1: 12.187,\tx_2: 12.188,\tF(x_1): 2.1750519348174935,\tF(x_2): 2.1750524889758442\n",
      "Round: 5,\tx_0: 11.71875,\tx_1: 11.71825,\tx_2: 11.71925,\tF(x_1): 2.1751208872288497,\tF(x_2): 2.1751200241640194\n",
      "Round: 6,\tx_0: 11.953125,\tx_1: 11.952625,\tx_2: 11.953625,\tF(x_1): 2.175003375110679,\tF(x_2): 2.1750032339568017\n",
      "Round: 7,\tx_0: 12.0703125,\tx_1: 12.0698125,\tx_2: 12.0708125,\tF(x_1): 2.1750072835445233,\tF(x_2): 2.175007493300563\n",
      "Round: 8,\tx_0: 12.01171875,\tx_1: 12.01121875,\tx_2: 12.01221875,\tF(x_1): 2.175000188677626,\tF(x_2): 2.1750002238009203\n",
      "Round: 9,\tx_0: 11.982421875,\tx_1: 11.981921875,\tx_2: 11.982921875,\tF(x_1): 2.1750004907009584,\tF(x_2): 2.175000437892326\n",
      "Round: 10,\tx_0: 11.9970703125,\tx_1: 11.9965703125,\tx_2: 11.9975703125,\tF(x_1): 2.1750000176473625,\tF(x_2): 2.1750000088562196\n",
      "Round: 11,\tx_0: 12.00439453125,\tx_1: 12.00389453125,\tx_2: 12.00489453125,\tF(x_1): 2.1750000227463357,\tF(x_2): 2.175000035925276\n",
      "Round: 12,\tx_0: 12.000732421875,\tx_1: 12.000232421875,\tx_2: 12.001232421875,\tF(x_1): 2.175000000081029,\tF(x_2): 2.175000002278146\n",
      "Round: 13,\tx_0: 11.9989013671875,\tx_1: 11.9984013671875,\tx_2: 11.9994013671875,\tF(x_1): 2.175000003833767,\tF(x_2): 2.175000000537559\n",
      "Round: 14,\tx_0: 11.99981689453125,\tx_1: 11.99931689453125,\tx_2: 12.00031689453125,\tF(x_1): 2.175000000699975,\tF(x_2): 2.175000000150631\n"
     ]
    },
    {
     "data": {
      "text/plain": [
       "2.1750000001131538"
      ]
     },
     "execution_count": 14,
     "metadata": {},
     "output_type": "execute_result"
    }
   ],
   "execution_count": 14
  },
  {
   "metadata": {
    "ExecuteTime": {
     "end_time": "2024-10-14T16:54:18.657738Z",
     "start_time": "2024-10-14T16:54:18.648932Z"
    }
   },
   "cell_type": "code",
   "source": "fibonacci.find_min(func, np.array([0, 15]), 100, 1e-3, verbose=True)",
   "id": "88e134f2c81003ec",
   "outputs": [
    {
     "name": "stdout",
     "output_type": "stream",
     "text": [
      "Round: 1,\tInterval: [5.7294901687515765, 15],\tF(X1): 2.2606730341210954,\tF(X2): 2.188026184784218\n",
      "Round: 2,\tInterval: [9.270509831248422, 15],\tF(X1): 2.188026184784218,\tF(X2): 2.1754520423234225\n",
      "Round: 3,\tInterval: [9.270509831248422, 12.811529493745267],\tF(X1): 2.1754520423234225,\tF(X2): 2.1759466583402323\n",
      "Round: 4,\tInterval: [10.623058987490536, 12.811529493745267],\tF(X1): 2.178066646909739,\tF(X2): 2.1754520423234225\n",
      "Round: 5,\tInterval: [11.458980337503153, 12.811529493745267],\tF(X1): 2.1754520423234225,\tF(X2): 2.175000893606257\n",
      "Round: 6,\tInterval: [11.458980337503153, 12.294901687515772],\tF(X1): 2.175000893606257,\tF(X2): 2.1751284262107373\n",
      "Round: 7,\tInterval: [11.778273881286276, 12.294901687515772],\tF(X1): 2.1750746246888273,\tF(X2): 2.175000893606257\n",
      "Round: 8,\tInterval: [11.778273881286276, 12.0975674250694],\tF(X1): 2.175000893606257,\tF(X2): 2.175014205132074\n",
      "Round: 9,\tInterval: [11.900233162623026, 12.0975674250694],\tF(X1): 2.1750150099390355,\tF(X2): 2.175000893606257\n",
      "Round: 10,\tInterval: [11.975608143732648, 12.0975674250694],\tF(X1): 2.175000893606257,\tF(X2): 2.1750007378833516\n",
      "Round: 11,\tInterval: [11.975608143732648, 12.050983124842272],\tF(X1): 2.1750007378833516,\tF(X2): 2.175003888341706\n",
      "Round: 12,\tInterval: [11.975608143732648, 12.022192443959778],\tF(X1): 2.175000029017679,\tF(X2): 2.1750007378833516\n",
      "Round: 13,\tInterval: [11.993401763077282, 12.022192443959778],\tF(X1): 2.175000065328084,\tF(X2): 2.175000029017679\n",
      "Round: 14,\tInterval: [11.993401763077282, 12.011195382421915],\tF(X1): 2.175000029017679,\tF(X2): 2.1750001878926835\n",
      "Round: 15,\tInterval: [11.993401763077282, 12.004398824615143],\tF(X1): 2.175000000058996,\tF(X2): 2.175000029017679\n",
      "Round: 16,\tInterval: [11.99760226680837, 12.004398824615143],\tF(X1): 2.1750000086247896,\tF(X2): 2.175000000058996\n",
      "Round: 17,\tInterval: [11.99760226680837, 12.00180277053946],\tF(X1): 2.175000000058996,\tF(X2): 2.1750000048745037\n",
      "Round: 18,\tInterval: [11.999206716463775, 12.00180277053946],\tF(X1): 2.1750000009439883,\tF(X2): 2.175000000058996\n",
      "Round: 19,\tInterval: [11.999206716463775, 12.000811166119181],\tF(X1): 2.175000000058996,\tF(X2): 2.175000000986943\n",
      "Round: 20,\tInterval: [11.999206716463775, 12.000198320884055],\tF(X1): 2.175000000048837,\tF(X2): 2.175000000058996\n",
      "Round: 21,\tInterval: [11.999702518673914, 12.000198320884055],\tF(X1): 2.1750000001327447,\tF(X2): 2.175000000058996\n"
     ]
    },
    {
     "data": {
      "text/plain": [
       "2.175000000003687"
      ]
     },
     "execution_count": 15,
     "metadata": {},
     "output_type": "execute_result"
    }
   ],
   "execution_count": 15
  },
  {
   "metadata": {
    "ExecuteTime": {
     "end_time": "2024-10-14T16:54:19.231712Z",
     "start_time": "2024-10-14T16:54:19.223674Z"
    }
   },
   "cell_type": "code",
   "source": "golden_ratio.find_min(func, np.array([0, 15]), 1e-3, verbose=True)",
   "id": "18615b504be279e0",
   "outputs": [
    {
     "name": "stdout",
     "output_type": "stream",
     "text": [
      "Round: 1,\tInterval: [5.7294901687515765, 15],\tF(X1): 2.2606730341210954,\tF(X2): 2.188026184784218\n",
      "Round: 2,\tInterval: [9.270509831248422, 15],\tF(X1): 2.188026184784218,\tF(X2): 2.1754520423234225\n",
      "Round: 3,\tInterval: [9.270509831248422, 12.811529493745269],\tF(X1): 2.1754520423234225,\tF(X2): 2.1759466583402323\n",
      "Round: 4,\tInterval: [10.623058987490536, 12.811529493745269],\tF(X1): 2.178066646909739,\tF(X2): 2.1754520423234225\n",
      "Round: 5,\tInterval: [11.458980337503155, 12.811529493745269],\tF(X1): 2.1754520423234225,\tF(X2): 2.175000893606257\n",
      "Round: 6,\tInterval: [11.458980337503155, 12.294901687515774],\tF(X1): 2.175000893606257,\tF(X2): 2.1751284262107378\n",
      "Round: 7,\tInterval: [11.778273881286278, 12.294901687515774],\tF(X1): 2.1750746246888273,\tF(X2): 2.175000893606257\n",
      "Round: 8,\tInterval: [11.778273881286278, 12.097567425069402],\tF(X1): 2.175000893606257,\tF(X2): 2.175014205132074\n",
      "Round: 9,\tInterval: [11.900233162623028, 12.097567425069402],\tF(X1): 2.1750150099390355,\tF(X2): 2.175000893606257\n",
      "Round: 10,\tInterval: [11.97560814373265, 12.097567425069402],\tF(X1): 2.175000893606257,\tF(X2): 2.1750007378833516\n",
      "Round: 11,\tInterval: [11.97560814373265, 12.050983124842274],\tF(X1): 2.1750007378833516,\tF(X2): 2.175003888341706\n",
      "Round: 12,\tInterval: [11.97560814373265, 12.02219244395978],\tF(X1): 2.175000029017679,\tF(X2): 2.1750007378833516\n",
      "Round: 13,\tInterval: [11.993401763077284, 12.02219244395978],\tF(X1): 2.175000065328084,\tF(X2): 2.175000029017679\n",
      "Round: 14,\tInterval: [11.993401763077284, 12.011195382421917],\tF(X1): 2.175000029017679,\tF(X2): 2.175000187892684\n",
      "Round: 15,\tInterval: [11.993401763077284, 12.004398824615144],\tF(X1): 2.175000000058996,\tF(X2): 2.175000029017679\n",
      "Round: 16,\tInterval: [11.997602266808371, 12.004398824615144],\tF(X1): 2.1750000086247896,\tF(X2): 2.175000000058996\n",
      "Round: 17,\tInterval: [11.997602266808371, 12.001802770539461],\tF(X1): 2.175000000058996,\tF(X2): 2.1750000048745037\n",
      "Round: 18,\tInterval: [11.999206716463776, 12.001802770539461],\tF(X1): 2.1750000009439883,\tF(X2): 2.175000000058996\n",
      "Round: 19,\tInterval: [11.999206716463776, 12.000811166119183],\tF(X1): 2.175000000058996,\tF(X2): 2.175000000986943\n",
      "Round: 20,\tInterval: [11.999206716463776, 12.000198320884056],\tF(X1): 2.1750000000488376,\tF(X2): 2.175000000058996\n"
     ]
    },
    {
     "data": {
      "text/plain": [
       "2.1750000001327447"
      ]
     },
     "execution_count": 16,
     "metadata": {},
     "output_type": "execute_result"
    }
   ],
   "execution_count": 16
  },
  {
   "metadata": {
    "ExecuteTime": {
     "end_time": "2024-10-14T16:54:19.724641Z",
     "start_time": "2024-10-14T16:54:19.720409Z"
    }
   },
   "cell_type": "code",
   "source": "monte_carlo.find_min(func, np.array([0, 15]), 1000, verbose=True)",
   "id": "7f887ff8ffb4e56d",
   "outputs": [
    {
     "name": "stdout",
     "output_type": "stream",
     "text": [
      "K of minimal F value: 11.996996996996996,\tF(K): 2.1750000135292074\n"
     ]
    },
    {
     "data": {
      "text/plain": [
       "2.1750000135292074"
      ]
     },
     "execution_count": 17,
     "metadata": {},
     "output_type": "execute_result"
    }
   ],
   "execution_count": 17
  },
  {
   "metadata": {
    "ExecuteTime": {
     "end_time": "2024-10-14T16:55:47.941597Z",
     "start_time": "2024-10-14T16:55:47.937933Z"
    }
   },
   "cell_type": "code",
   "source": "newton.find_min(func, np.random.rand() * 15, 1e-5, verbose=True)",
   "id": "a1e6f2873432c3b3",
   "outputs": [
    {
     "name": "stdout",
     "output_type": "stream",
     "text": [
      "Round: 0,\tx: 8.658044915861819,\tF'(x): -0.04904231198921138,\tF''(x): 0.010569323194431489\n",
      "Round: 1,\tx: 11.22540003551994,\tF'(x): -0.0133395760659738,\tF''(x): 0.005195843755245732\n",
      "Round: 2,\tx: 11.952930740480776,\tF'(x): -0.002474858185053108,\tF''(x): 0.003401723347451479\n",
      "Round: 3,\tx: 11.999798941655518,\tF'(x): -0.00014174104112640862,\tF''(x): 0.003024247519078926\n"
     ]
    },
    {
     "data": {
      "text/plain": [
       "2.1750000000606375"
      ]
     },
     "execution_count": 26,
     "metadata": {},
     "output_type": "execute_result"
    }
   ],
   "execution_count": 26
  },
  {
   "metadata": {
    "ExecuteTime": {
     "end_time": "2024-10-14T16:54:22.743396Z",
     "start_time": "2024-10-14T16:54:22.739505Z"
    }
   },
   "cell_type": "code",
   "source": "uniform_search.find_min(func, np.array([0, 15]), 100, 1e-3, verbose=True)",
   "id": "71652e536e9f2085",
   "outputs": [
    {
     "name": "stdout",
     "output_type": "stream",
     "text": [
      "Round: 1,\tInterval: [11.818181818181818, 12.121212121212121],\tK of minimal F value: 79,\tF(K): 3.5388756909421097\n",
      "Round: 2,\tInterval: [11.99571472298745, 12.001836547291093],\tK of minimal F value: 59,\tF(K): 3.0603116556883867\n",
      "Round: 3,\tInterval: [11.999919612408135, 12.00004328562639],\tK of minimal F value: 69,\tF(K): 3.2980601285574007\n"
     ]
    },
    {
     "data": {
      "text/plain": [
       "2.1750000000005163"
      ]
     },
     "execution_count": 19,
     "metadata": {},
     "output_type": "execute_result"
    }
   ],
   "execution_count": 19
  },
  {
   "metadata": {},
   "cell_type": "code",
   "outputs": [],
   "execution_count": null,
   "source": "",
   "id": "57765bc86de5be05"
  }
 ],
 "metadata": {
  "kernelspec": {
   "display_name": "Python 3",
   "language": "python",
   "name": "python3"
  },
  "language_info": {
   "codemirror_mode": {
    "name": "ipython",
    "version": 2
   },
   "file_extension": ".py",
   "mimetype": "text/x-python",
   "name": "python",
   "nbconvert_exporter": "python",
   "pygments_lexer": "ipython2",
   "version": "2.7.6"
  }
 },
 "nbformat": 4,
 "nbformat_minor": 5
}
